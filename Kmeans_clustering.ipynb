{
 "cells": [
  {
   "cell_type": "code",
   "execution_count": 1,
   "id": "aaa65a6f-9ec1-4470-84cd-5082adcbdd77",
   "metadata": {},
   "outputs": [],
   "source": [
    "import random\n",
    "import numpy as np\n"
   ]
  },
  {
   "cell_type": "code",
   "execution_count": 3,
   "id": "7e75ba48-427c-4480-a253-179b4c3f3867",
   "metadata": {},
   "outputs": [],
   "source": [
    "class KMeans:\n",
    "    def __init__(self, n_clusters=2, max_iter=100) -> None:\n",
    "        self.n_cluster = n_clusters\n",
    "        self.max_iter = max_iter\n",
    "        self.centroids = None\n",
    "\n",
    "    def fit_predict(self, X):\n",
    "        random_index = random.sample(range(0,X.shape[0]),self.n_cluster)\n",
    "        self.centroids = X[random_index]\n",
    "\n",
    "        for i in range(self.max_iter):\n",
    "            cluster_group = self.assign_clusters(X)\n",
    "            old_centroids = self.centroids\n",
    "            self.centroids= self.move_centroids(X, cluster_group)\n",
    "            if (old_centroids == self.centroids).all():\n",
    "                break\n",
    "        return cluster_group\n",
    "\n",
    "\n",
    "\n",
    "\n",
    "    def assign_clusters(self,X):\n",
    "        cluster_group =[]\n",
    "        distances = []\n",
    "        for row in X:\n",
    "            for centroid in self.centroids:\n",
    "                distances.append(np.sqrt(np.dot(row-centroid,row-centroid)))\n",
    "            min_distances = min(distances)\n",
    "            index_position = distances.index(min_distances)\n",
    "            cluster_group.append(index_position)\n",
    "            distances.clear()\n",
    "        return np.array(cluster_group)\n",
    "    \n",
    "    def move_centroids(self,X, cluster_group):\n",
    "        new_centroids = []\n",
    "        cluster_type = np.unique(cluster_group)\n",
    "        for type in cluster_type:\n",
    "           new_centroids.append(X[cluster_group==type].mean(axis=0))\n",
    "        return np.array(new_centroids)\n"
   ]
  },
  {
   "cell_type": "code",
   "execution_count": 4,
   "id": "07c2281a-a7db-406b-b562-53e2b25c686b",
   "metadata": {},
   "outputs": [],
   "source": [
    "from sklearn.datasets import make_blobs\n",
    "import matplotlib.pyplot as plt\n"
   ]
  },
  {
   "cell_type": "code",
   "execution_count": 5,
   "id": "54a5031d-5315-4179-b990-f41d59a36e80",
   "metadata": {},
   "outputs": [],
   "source": [
    "centroids =[(-5,-5),(-5,-5),(-2.5,2.5)]\n",
    "cluster_std =[1,1,1]"
   ]
  },
  {
   "cell_type": "code",
   "execution_count": 6,
   "id": "2e1e1965-2823-4f48-9565-43e376ec648a",
   "metadata": {},
   "outputs": [],
   "source": [
    "X,y = make_blobs(n_samples=100, cluster_std= cluster_std, centers = centroids, n_features=2, random_state=2)\n",
    "km= KMeans(n_clusters=3, max_iter =600)\n",
    "y_means = km.fit_predict(X)"
   ]
  },
  {
   "cell_type": "code",
   "execution_count": 7,
   "id": "b380efc1-ed0c-486d-972c-a7d2719c22d4",
   "metadata": {},
   "outputs": [
    {
     "data": {
      "image/png": "[encoded data removed]",
      "text/plain": [
       "<Figure size 640x480 with 1 Axes>"
      ]
     },
     "metadata": {},
     "output_type": "display_data"
    }
   ],
   "source": [
    "plt.scatter(X[y_means==0,0], X[y_means == 0,1], color='red')\n",
    "plt.scatter(X[y_means==1,0], X[y_means == 1,1], color='blue')\n",
    "plt.scatter(X[y_means==2,0], X[y_means == 2,1], color='green')\n",
    "\n",
    "plt.show()"
   ]
  },
  {
   "cell_type": "code",
   "execution_count": null,
   "id": "53821a45-929f-42e6-b2ad-a9e268e8b26b",
   "metadata": {},
   "outputs": [],
   "source": []
  }
 ],
 "metadata": {
  "kernelspec": {
   "display_name": "Python 3 (ipykernel)",
   "language": "python",
   "name": "python3"
  },
  "language_info": {
   "codemirror_mode": {
    "name": "ipython",
    "version": 3
   },
   "file_extension": ".py",
   "mimetype": "text/x-python",
   "name": "python",
   "nbconvert_exporter": "python",
   "pygments_lexer": "ipython3",
   "version": "3.10.6"
  }
 },
 "nbformat": 4,
 "nbformat_minor": 5
}
